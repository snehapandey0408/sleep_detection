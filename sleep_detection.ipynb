pip install mne numpy scipy matplotlib seaborn scikit-learn pywavelets pandas tqdm tensorflow

import os
import mne
import numpy as np
import matplotlib.pyplot as plt
from sklearn.model_selection import train_test_split
from sklearn.preprocessing import LabelEncoder
from tensorflow.keras.utils import to_categorical

# Create a folder for dataset
os.makedirs("sleep-edf", exist_ok=True)

# Download one subject file for demo (you can loop for more)
!wget -P sleep-edf https://physionet.org/files/sleep-edfx/1.0.0/sleep-cassette/SC4001E0-PSG.edf
!wget -P sleep-edf https://physionet.org/files/sleep-edfx/1.0.0/sleep-cassette/SC4001EC-Hypnogram.edf


# or for multiple EEG channels
raw.pick_channels([ch for ch in raw.ch_names if "EEG" in ch])




import mne

# Replace with your actual EDF file path
edf_file = "sleep-edf/SC4001E0-PSG.edf"

# Load the raw EEG data
raw = mne.io.read_raw_edf(edf_file, preload=True)

# Check info
print(raw.info)


print(raw.ch_names)


annotations = mne.read_annotations("sleep-edf/SC4001EC-Hypnogram.edf")
raw.set_annotations(annotations)

# Convert annotations into events
events, event_id = mne.events_from_annotations(raw)
print(event_id)  # shows mapping of stages


# Each annotation in Sleep-EDF is already a 30s sleep stage label
mapping = {
    "Sleep stage W": "W",
    "Sleep stage 1": "N1",
    "Sleep stage 2": "N2",
    "Sleep stage 3": "N3",
    "Sleep stage 4": "N3",  # merge N3 + N4
    "Sleep stage R": "REM"
}

# Convert annotations into labeled epochs
epochs = mne.make_fixed_length_epochs(
    raw, duration=30.0, preload=True
)

labels = []
for desc in raw.annotations.description:
    if desc in mapping:
        labels.append(mapping[desc])

print("Total epochs:", len(epochs))
print("Example labels:", labels[:10])



labels = epochs.events[:, -1]  # extract stage labels
print("Original labels:", np.unique(labels))

# Map labels into 5 classes: W, N1, N2, N3, REM
label_map = {1:"W", 2:"N1", 3:"N2", 4:"N3", 5:"REM"}
labels_mapped = np.array([label_map.get(l, "W") for l in labels])

# Encode labels
encoder = LabelEncoder()
y = encoder.fit_transform(labels_mapped)
y = to_categorical(y)

print("Final classes:", encoder.classes_)


import mne
import numpy as np

# Make sure your raw EEG is loaded and filtered
# raw.pick_channels(["EEG Fpz-Cz"])  # or use multiple EEG channels

# Create fixed-length epochs (30s each)
epochs = mne.make_fixed_length_epochs(raw, duration=30.0, preload=True)
print("Number of epochs:", len(epochs))

# Get EEG data as numpy array
X = epochs.get_data()  # shape: (n_epochs, n_channels, n_times)
print("EEG data shape:", X.shape)


X = X.reshape(X.shape[0], X.shape[2], X.shape[1])  # (epochs, timesteps, channels)
print("CNN input shape:", X.shape)


from sklearn.model_selection import train_test_split
from tensorflow.keras.utils import to_categorical

# Convert labels to one-hot encoding for CNN
y_cat = to_categorical(y, num_classes=5)  # 5 classes: W, N1, N2, N3, REM

# Train/test split (80% train, 20% test)
X_train, X_test, y_train, y_test = train_test_split(
    X, y_cat, test_size=0.2, random_state=42, shuffle=True
)

print("Training shape:", X_train.shape, y_train.shape)
print("Testing shape:", X_test.shape, y_test.shape)


import tensorflow as tf
from tensorflow.keras import layers, models

model = models.Sequential()

# CNN layers
model.add(layers.Conv1D(64, kernel_size=7, activation='relu', input_shape=(X_train.shape[1], X_train.shape[2])))
model.add(layers.MaxPooling1D(pool_size=2))
model.add(layers.Conv1D(128, kernel_size=5, activation='relu'))
model.add(layers.MaxPooling1D(pool_size=2))

# LSTM layer
model.add(layers.LSTM(64))

# Dense layers
model.add(layers.Dense(64, activation='relu'))
model.add(layers.Dropout(0.5))
model.add(layers.Dense(5, activation='softmax'))  # 5 sleep stages

# Compile model
model.compile(optimizer='adam', loss='categorical_crossentropy', metrics=['accuracy'])

model.summary()


history = model.fit(
    X_train, y_train,
    validation_data=(X_test, y_test),
    epochs=10,          # you can increase to 20–30 for better accuracy
    batch_size=32
)


# Evaluate test set
loss, acc = model.evaluate(X_test, y_test)
print(f"Test Accuracy: {acc*100:.2f}%")

# Plot training curves
import matplotlib.pyplot as plt

plt.figure(figsize=(12,4))
plt.subplot(1,2,1)
plt.plot(history.history['accuracy'], label='Train Acc')
plt.plot(history.history['val_accuracy'], label='Val Acc')
plt.title('Accuracy')
plt.legend()

plt.subplot(1,2,2)
plt.plot(history.history['loss'], label='Train Loss')
plt.plot(history.history['val_loss'], label='Val Loss')
plt.title('Loss')
plt.legend()
plt.show()


pip install streamlit mne tensorflow matplotlib numpy


!pip install streamlit
!pip install pyngrok
!pip install mne
!pip install tensorflow
!pip install matplotlib


import tensorflow as tf
from tensorflow.keras import layers, models

# Simple example CNN
model = models.Sequential([
    layers.Input(shape=(128, 1)),   # adjust input shape to your EEG features
    layers.Conv1D(16, 3, activation="relu"),
    layers.MaxPooling1D(2),
    layers.Flatten(),
    layers.Dense(64, activation="relu"),
    layers.Dense(5, activation="softmax")  # 5 sleep stages: W, N1, N2, N3, REM
])

model.compile(optimizer="adam", loss="sparse_categorical_crossentropy", metrics=["accuracy"])

# (Skip training for now)
model.save("sleep_stage_model.keras")
print("Model saved ✅")



%%writefile app.py
import streamlit as st
import numpy as np
import mne
import tensorflow as tf
import matplotlib.pyplot as plt

# Load trained model
model = tf.keras.models.load_model("sleep_stage_model.h5")

# Label mapping
label_map = {0: 'W', 1: 'N1', 2: 'N2', 3: 'N3', 4: 'REM'}

st.title("EEG Sleep Stage Detection")

uploaded_file = st.file_uploader("Upload EEG EDF file", type=["edf"])

if uploaded_file is not None:
    st.write("Processing EEG...")

    raw = mne.io.read_raw_edf(uploaded_file, preload=True)
    raw.pick_channels([ch for ch in raw.ch_names if "EEG" in ch])
    raw.filter(0.3, 35.)

    # 30s fixed-length epochs
    epochs = mne.make_fixed_length_epochs(raw, duration=30.0, preload=True)
    X = epochs.get_data()
    X = X.reshape(X.shape[0], X.shape[2], X.shape[1])

    # Predict
    y_pred = model.predict(X)
    y_classes = np.argmax(y_pred, axis=1)
    stages = [label_map[c] for c in y_classes]

    # Plot hypnogram
    st.subheader("Predicted Hypnogram")
    fig, ax = plt.subplots(figsize=(12,4))
    ax.plot(stages, marker='o')
    ax.set_xlabel("Epoch (30s each)")
    ax.set_ylabel("Sleep Stage")
    ax.set_title("EEG Sleep Stage Hypnogram")
    ax.grid(True)
    st.pyplot(fig)

    st.success("Prediction completed!")


!pip install gradio mne tensorflow matplotlib

import gradio as gr
import mne
import numpy as np
import tensorflow as tf
import matplotlib.pyplot as plt

# Load model
model = tf.keras.models.load_model("sleep_stage_model.keras")
label_map = {0: 'W', 1: 'N1', 2: 'N2', 3: 'N3', 4: 'REM'}

def predict_sleep_stage(file):
    raw = mne.io.read_raw_edf(file.name, preload=True)
    raw.pick_channels([ch for ch in raw.ch_names if "EEG" in ch])
    raw.filter(0.3, 35.)
    epochs = mne.make_fixed_length_epochs(raw, duration=30.0, preload=True)
    X = epochs.get_data()
    X = X.reshape(X.shape[0], X.shape[2], X.shape[1])
    y_pred = model.predict(X)
    y_classes = np.argmax(y_pred, axis=1)
    stages = [label_map[c] for c in y_classes]

    # Hypnogram figure
    fig, ax = plt.subplots(figsize=(12,4))
    ax.plot(stages, marker='o')
    ax.set_xlabel("Epoch (30s each)")
    ax.set_ylabel("Sleep Stage")
    ax.set_title("Predicted Hypnogram")
    ax.grid(True)
    return fig

demo = gr.Interface(
    fn=predict_sleep_stage,
    inputs=gr.File(file_types=[".edf"], label="Upload EEG EDF File"),
    outputs=gr.Plot(label="Hypnogram"),
    title="Sleep Stage Detection from EEG"
)

demo.launch()
